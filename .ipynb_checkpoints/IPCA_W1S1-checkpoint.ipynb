{
  "nbformat": 4,
  "nbformat_minor": 0,
  "metadata": {
    "colab": {
      "name": "IPCA_W1S1.ipynb",
      "provenance": []
    },
    "kernelspec": {
      "name": "python3",
      "display_name": "Python 3"
    }
  },
  "cells": [
    {
      "cell_type": "code",
      "metadata": {
        "id": "XVJB3WWPje6X"
      },
      "source": [
        ""
      ],
      "execution_count": null,
      "outputs": []
    },
    {
      "cell_type": "markdown",
      "metadata": {
        "id": "W2i_xs7oja4e"
      },
      "source": [
        "Basics of returns"
      ]
    },
    {
      "cell_type": "code",
      "metadata": {
        "colab": {
          "base_uri": "https://localhost:8080/"
        },
        "id": "IKPZgqfDBJnS",
        "outputId": "ee391316-962d-4385-c8ba-60c46075bf62"
      },
      "source": [
        "from IPython.display import Math, HTML\n",
        "from google.colab import drive\n",
        "drive.mount('/content/drive')\n"
      ],
      "execution_count": null,
      "outputs": [
        {
          "output_type": "stream",
          "text": [
            "Drive already mounted at /content/drive; to attempt to forcibly remount, call drive.mount(\"/content/drive\", force_remount=True).\n"
          ],
          "name": "stdout"
        }
      ]
    },
    {
      "cell_type": "code",
      "metadata": {
        "colab": {
          "base_uri": "https://localhost:8080/",
          "height": 39
        },
        "id": "O-5hdMHfBOmK",
        "outputId": "30bfcfd4-46ab-48c2-ed62-f96eb1396ec3"
      },
      "source": [
        "Math(r'R_t,_{t+1} = P_{t+1} / P_t - 1')"
      ],
      "execution_count": null,
      "outputs": [
        {
          "output_type": "execute_result",
          "data": {
            "text/latex": "$$R_t,_{t+1} = P_{t+1} / P_t - 1$$",
            "text/plain": [
              "<IPython.core.display.Math object>"
            ]
          },
          "metadata": {
            "tags": []
          },
          "execution_count": 2
        }
      ]
    },
    {
      "cell_type": "code",
      "metadata": {
        "id": "W2PAzbS7Bs_j"
      },
      "source": [
        "import pandas as pd\n",
        "prices = pd.DataFrame({\"BLUE\": [8.70, 8.91, 8.71, 8.43, 8.73],\n",
        "                       \"ORANGE\": [10.66, 11.08, 10.71, 11.59, 12.11],\n",
        "                       })"
      ],
      "execution_count": null,
      "outputs": []
    },
    {
      "cell_type": "code",
      "metadata": {
        "colab": {
          "base_uri": "https://localhost:8080/",
          "height": 202
        },
        "id": "r1i6NmfPEg04",
        "outputId": "7617ea40-aa96-43d2-cb67-4fae92ade052"
      },
      "source": [
        "prices"
      ],
      "execution_count": null,
      "outputs": [
        {
          "output_type": "execute_result",
          "data": {
            "text/html": [
              "<div>\n",
              "<style scoped>\n",
              "    .dataframe tbody tr th:only-of-type {\n",
              "        vertical-align: middle;\n",
              "    }\n",
              "\n",
              "    .dataframe tbody tr th {\n",
              "        vertical-align: top;\n",
              "    }\n",
              "\n",
              "    .dataframe thead th {\n",
              "        text-align: right;\n",
              "    }\n",
              "</style>\n",
              "<table border=\"1\" class=\"dataframe\">\n",
              "  <thead>\n",
              "    <tr style=\"text-align: right;\">\n",
              "      <th></th>\n",
              "      <th>BLUE</th>\n",
              "      <th>ORANGE</th>\n",
              "    </tr>\n",
              "  </thead>\n",
              "  <tbody>\n",
              "    <tr>\n",
              "      <th>0</th>\n",
              "      <td>8.70</td>\n",
              "      <td>10.66</td>\n",
              "    </tr>\n",
              "    <tr>\n",
              "      <th>1</th>\n",
              "      <td>8.91</td>\n",
              "      <td>11.08</td>\n",
              "    </tr>\n",
              "    <tr>\n",
              "      <th>2</th>\n",
              "      <td>8.71</td>\n",
              "      <td>10.71</td>\n",
              "    </tr>\n",
              "    <tr>\n",
              "      <th>3</th>\n",
              "      <td>8.43</td>\n",
              "      <td>11.59</td>\n",
              "    </tr>\n",
              "    <tr>\n",
              "      <th>4</th>\n",
              "      <td>8.73</td>\n",
              "      <td>12.11</td>\n",
              "    </tr>\n",
              "  </tbody>\n",
              "</table>\n",
              "</div>"
            ],
            "text/plain": [
              "   BLUE  ORANGE\n",
              "0  8.70   10.66\n",
              "1  8.91   11.08\n",
              "2  8.71   10.71\n",
              "3  8.43   11.59\n",
              "4  8.73   12.11"
            ]
          },
          "metadata": {
            "tags": []
          },
          "execution_count": 4
        }
      ]
    },
    {
      "cell_type": "code",
      "metadata": {
        "colab": {
          "base_uri": "https://localhost:8080/",
          "height": 202
        },
        "id": "5q-lYP1uElGI",
        "outputId": "5dd3627b-05f3-4cd2-c26b-71a6e9bddf21"
      },
      "source": [
        "prices /prices.shift(1) -1"
      ],
      "execution_count": null,
      "outputs": [
        {
          "output_type": "execute_result",
          "data": {
            "text/html": [
              "<div>\n",
              "<style scoped>\n",
              "    .dataframe tbody tr th:only-of-type {\n",
              "        vertical-align: middle;\n",
              "    }\n",
              "\n",
              "    .dataframe tbody tr th {\n",
              "        vertical-align: top;\n",
              "    }\n",
              "\n",
              "    .dataframe thead th {\n",
              "        text-align: right;\n",
              "    }\n",
              "</style>\n",
              "<table border=\"1\" class=\"dataframe\">\n",
              "  <thead>\n",
              "    <tr style=\"text-align: right;\">\n",
              "      <th></th>\n",
              "      <th>BLUE</th>\n",
              "      <th>ORANGE</th>\n",
              "    </tr>\n",
              "  </thead>\n",
              "  <tbody>\n",
              "    <tr>\n",
              "      <th>0</th>\n",
              "      <td>NaN</td>\n",
              "      <td>NaN</td>\n",
              "    </tr>\n",
              "    <tr>\n",
              "      <th>1</th>\n",
              "      <td>0.024138</td>\n",
              "      <td>0.039400</td>\n",
              "    </tr>\n",
              "    <tr>\n",
              "      <th>2</th>\n",
              "      <td>-0.022447</td>\n",
              "      <td>-0.033394</td>\n",
              "    </tr>\n",
              "    <tr>\n",
              "      <th>3</th>\n",
              "      <td>-0.032147</td>\n",
              "      <td>0.082166</td>\n",
              "    </tr>\n",
              "    <tr>\n",
              "      <th>4</th>\n",
              "      <td>0.035587</td>\n",
              "      <td>0.044866</td>\n",
              "    </tr>\n",
              "  </tbody>\n",
              "</table>\n",
              "</div>"
            ],
            "text/plain": [
              "       BLUE    ORANGE\n",
              "0       NaN       NaN\n",
              "1  0.024138  0.039400\n",
              "2 -0.022447 -0.033394\n",
              "3 -0.032147  0.082166\n",
              "4  0.035587  0.044866"
            ]
          },
          "metadata": {
            "tags": []
          },
          "execution_count": 5
        }
      ]
    },
    {
      "cell_type": "code",
      "metadata": {
        "colab": {
          "base_uri": "https://localhost:8080/",
          "height": 202
        },
        "id": "UXrAn5upExzI",
        "outputId": "76e7d4c1-1f70-477c-f746-30f6dd7d9d2d"
      },
      "source": [
        "prices.pct_change()"
      ],
      "execution_count": null,
      "outputs": [
        {
          "output_type": "execute_result",
          "data": {
            "text/html": [
              "<div>\n",
              "<style scoped>\n",
              "    .dataframe tbody tr th:only-of-type {\n",
              "        vertical-align: middle;\n",
              "    }\n",
              "\n",
              "    .dataframe tbody tr th {\n",
              "        vertical-align: top;\n",
              "    }\n",
              "\n",
              "    .dataframe thead th {\n",
              "        text-align: right;\n",
              "    }\n",
              "</style>\n",
              "<table border=\"1\" class=\"dataframe\">\n",
              "  <thead>\n",
              "    <tr style=\"text-align: right;\">\n",
              "      <th></th>\n",
              "      <th>BLUE</th>\n",
              "      <th>ORANGE</th>\n",
              "    </tr>\n",
              "  </thead>\n",
              "  <tbody>\n",
              "    <tr>\n",
              "      <th>0</th>\n",
              "      <td>NaN</td>\n",
              "      <td>NaN</td>\n",
              "    </tr>\n",
              "    <tr>\n",
              "      <th>1</th>\n",
              "      <td>0.024138</td>\n",
              "      <td>0.039400</td>\n",
              "    </tr>\n",
              "    <tr>\n",
              "      <th>2</th>\n",
              "      <td>-0.022447</td>\n",
              "      <td>-0.033394</td>\n",
              "    </tr>\n",
              "    <tr>\n",
              "      <th>3</th>\n",
              "      <td>-0.032147</td>\n",
              "      <td>0.082166</td>\n",
              "    </tr>\n",
              "    <tr>\n",
              "      <th>4</th>\n",
              "      <td>0.035587</td>\n",
              "      <td>0.044866</td>\n",
              "    </tr>\n",
              "  </tbody>\n",
              "</table>\n",
              "</div>"
            ],
            "text/plain": [
              "       BLUE    ORANGE\n",
              "0       NaN       NaN\n",
              "1  0.024138  0.039400\n",
              "2 -0.022447 -0.033394\n",
              "3 -0.032147  0.082166\n",
              "4  0.035587  0.044866"
            ]
          },
          "metadata": {
            "tags": []
          },
          "execution_count": 6
        }
      ]
    },
    {
      "cell_type": "code",
      "metadata": {
        "id": "aCUR95IoGgYg",
        "colab": {
          "base_uri": "https://localhost:8080/",
          "height": 381
        },
        "outputId": "e007e7c9-50f1-4e4a-af4e-22de187d97b4"
      },
      "source": [
        "price = pd.read_csv('/content/drive/MyDrive/IPCA_S1_DATA/sample_prices.csv')"
      ],
      "execution_count": null,
      "outputs": [
        {
          "output_type": "error",
          "ename": "FileNotFoundError",
          "evalue": "ignored",
          "traceback": [
            "\u001b[0;31m---------------------------------------------------------------------------\u001b[0m",
            "\u001b[0;31mFileNotFoundError\u001b[0m                         Traceback (most recent call last)",
            "\u001b[0;32m<ipython-input-7-d6ba2290d7b1>\u001b[0m in \u001b[0;36m<module>\u001b[0;34m()\u001b[0m\n\u001b[0;32m----> 1\u001b[0;31m \u001b[0mprice\u001b[0m \u001b[0;34m=\u001b[0m \u001b[0mpd\u001b[0m\u001b[0;34m.\u001b[0m\u001b[0mread_csv\u001b[0m\u001b[0;34m(\u001b[0m\u001b[0;34m'/content/drive/MyDrive/IPCA_S1_DATA/sample_prices.csv'\u001b[0m\u001b[0;34m)\u001b[0m\u001b[0;34m\u001b[0m\u001b[0;34m\u001b[0m\u001b[0m\n\u001b[0m",
            "\u001b[0;32m/usr/local/lib/python3.6/dist-packages/pandas/io/parsers.py\u001b[0m in \u001b[0;36mread_csv\u001b[0;34m(filepath_or_buffer, sep, delimiter, header, names, index_col, usecols, squeeze, prefix, mangle_dupe_cols, dtype, engine, converters, true_values, false_values, skipinitialspace, skiprows, skipfooter, nrows, na_values, keep_default_na, na_filter, verbose, skip_blank_lines, parse_dates, infer_datetime_format, keep_date_col, date_parser, dayfirst, cache_dates, iterator, chunksize, compression, thousands, decimal, lineterminator, quotechar, quoting, doublequote, escapechar, comment, encoding, dialect, error_bad_lines, warn_bad_lines, delim_whitespace, low_memory, memory_map, float_precision)\u001b[0m\n\u001b[1;32m    686\u001b[0m     )\n\u001b[1;32m    687\u001b[0m \u001b[0;34m\u001b[0m\u001b[0m\n\u001b[0;32m--> 688\u001b[0;31m     \u001b[0;32mreturn\u001b[0m \u001b[0m_read\u001b[0m\u001b[0;34m(\u001b[0m\u001b[0mfilepath_or_buffer\u001b[0m\u001b[0;34m,\u001b[0m \u001b[0mkwds\u001b[0m\u001b[0;34m)\u001b[0m\u001b[0;34m\u001b[0m\u001b[0;34m\u001b[0m\u001b[0m\n\u001b[0m\u001b[1;32m    689\u001b[0m \u001b[0;34m\u001b[0m\u001b[0m\n\u001b[1;32m    690\u001b[0m \u001b[0;34m\u001b[0m\u001b[0m\n",
            "\u001b[0;32m/usr/local/lib/python3.6/dist-packages/pandas/io/parsers.py\u001b[0m in \u001b[0;36m_read\u001b[0;34m(filepath_or_buffer, kwds)\u001b[0m\n\u001b[1;32m    452\u001b[0m \u001b[0;34m\u001b[0m\u001b[0m\n\u001b[1;32m    453\u001b[0m     \u001b[0;31m# Create the parser.\u001b[0m\u001b[0;34m\u001b[0m\u001b[0;34m\u001b[0m\u001b[0;34m\u001b[0m\u001b[0m\n\u001b[0;32m--> 454\u001b[0;31m     \u001b[0mparser\u001b[0m \u001b[0;34m=\u001b[0m \u001b[0mTextFileReader\u001b[0m\u001b[0;34m(\u001b[0m\u001b[0mfp_or_buf\u001b[0m\u001b[0;34m,\u001b[0m \u001b[0;34m**\u001b[0m\u001b[0mkwds\u001b[0m\u001b[0;34m)\u001b[0m\u001b[0;34m\u001b[0m\u001b[0;34m\u001b[0m\u001b[0m\n\u001b[0m\u001b[1;32m    455\u001b[0m \u001b[0;34m\u001b[0m\u001b[0m\n\u001b[1;32m    456\u001b[0m     \u001b[0;32mif\u001b[0m \u001b[0mchunksize\u001b[0m \u001b[0;32mor\u001b[0m \u001b[0miterator\u001b[0m\u001b[0;34m:\u001b[0m\u001b[0;34m\u001b[0m\u001b[0;34m\u001b[0m\u001b[0m\n",
            "\u001b[0;32m/usr/local/lib/python3.6/dist-packages/pandas/io/parsers.py\u001b[0m in \u001b[0;36m__init__\u001b[0;34m(self, f, engine, **kwds)\u001b[0m\n\u001b[1;32m    946\u001b[0m             \u001b[0mself\u001b[0m\u001b[0;34m.\u001b[0m\u001b[0moptions\u001b[0m\u001b[0;34m[\u001b[0m\u001b[0;34m\"has_index_names\"\u001b[0m\u001b[0;34m]\u001b[0m \u001b[0;34m=\u001b[0m \u001b[0mkwds\u001b[0m\u001b[0;34m[\u001b[0m\u001b[0;34m\"has_index_names\"\u001b[0m\u001b[0;34m]\u001b[0m\u001b[0;34m\u001b[0m\u001b[0;34m\u001b[0m\u001b[0m\n\u001b[1;32m    947\u001b[0m \u001b[0;34m\u001b[0m\u001b[0m\n\u001b[0;32m--> 948\u001b[0;31m         \u001b[0mself\u001b[0m\u001b[0;34m.\u001b[0m\u001b[0m_make_engine\u001b[0m\u001b[0;34m(\u001b[0m\u001b[0mself\u001b[0m\u001b[0;34m.\u001b[0m\u001b[0mengine\u001b[0m\u001b[0;34m)\u001b[0m\u001b[0;34m\u001b[0m\u001b[0;34m\u001b[0m\u001b[0m\n\u001b[0m\u001b[1;32m    949\u001b[0m \u001b[0;34m\u001b[0m\u001b[0m\n\u001b[1;32m    950\u001b[0m     \u001b[0;32mdef\u001b[0m \u001b[0mclose\u001b[0m\u001b[0;34m(\u001b[0m\u001b[0mself\u001b[0m\u001b[0;34m)\u001b[0m\u001b[0;34m:\u001b[0m\u001b[0;34m\u001b[0m\u001b[0;34m\u001b[0m\u001b[0m\n",
            "\u001b[0;32m/usr/local/lib/python3.6/dist-packages/pandas/io/parsers.py\u001b[0m in \u001b[0;36m_make_engine\u001b[0;34m(self, engine)\u001b[0m\n\u001b[1;32m   1178\u001b[0m     \u001b[0;32mdef\u001b[0m \u001b[0m_make_engine\u001b[0m\u001b[0;34m(\u001b[0m\u001b[0mself\u001b[0m\u001b[0;34m,\u001b[0m \u001b[0mengine\u001b[0m\u001b[0;34m=\u001b[0m\u001b[0;34m\"c\"\u001b[0m\u001b[0;34m)\u001b[0m\u001b[0;34m:\u001b[0m\u001b[0;34m\u001b[0m\u001b[0;34m\u001b[0m\u001b[0m\n\u001b[1;32m   1179\u001b[0m         \u001b[0;32mif\u001b[0m \u001b[0mengine\u001b[0m \u001b[0;34m==\u001b[0m \u001b[0;34m\"c\"\u001b[0m\u001b[0;34m:\u001b[0m\u001b[0;34m\u001b[0m\u001b[0;34m\u001b[0m\u001b[0m\n\u001b[0;32m-> 1180\u001b[0;31m             \u001b[0mself\u001b[0m\u001b[0;34m.\u001b[0m\u001b[0m_engine\u001b[0m \u001b[0;34m=\u001b[0m \u001b[0mCParserWrapper\u001b[0m\u001b[0;34m(\u001b[0m\u001b[0mself\u001b[0m\u001b[0;34m.\u001b[0m\u001b[0mf\u001b[0m\u001b[0;34m,\u001b[0m \u001b[0;34m**\u001b[0m\u001b[0mself\u001b[0m\u001b[0;34m.\u001b[0m\u001b[0moptions\u001b[0m\u001b[0;34m)\u001b[0m\u001b[0;34m\u001b[0m\u001b[0;34m\u001b[0m\u001b[0m\n\u001b[0m\u001b[1;32m   1181\u001b[0m         \u001b[0;32melse\u001b[0m\u001b[0;34m:\u001b[0m\u001b[0;34m\u001b[0m\u001b[0;34m\u001b[0m\u001b[0m\n\u001b[1;32m   1182\u001b[0m             \u001b[0;32mif\u001b[0m \u001b[0mengine\u001b[0m \u001b[0;34m==\u001b[0m \u001b[0;34m\"python\"\u001b[0m\u001b[0;34m:\u001b[0m\u001b[0;34m\u001b[0m\u001b[0;34m\u001b[0m\u001b[0m\n",
            "\u001b[0;32m/usr/local/lib/python3.6/dist-packages/pandas/io/parsers.py\u001b[0m in \u001b[0;36m__init__\u001b[0;34m(self, src, **kwds)\u001b[0m\n\u001b[1;32m   2008\u001b[0m         \u001b[0mkwds\u001b[0m\u001b[0;34m[\u001b[0m\u001b[0;34m\"usecols\"\u001b[0m\u001b[0;34m]\u001b[0m \u001b[0;34m=\u001b[0m \u001b[0mself\u001b[0m\u001b[0;34m.\u001b[0m\u001b[0musecols\u001b[0m\u001b[0;34m\u001b[0m\u001b[0;34m\u001b[0m\u001b[0m\n\u001b[1;32m   2009\u001b[0m \u001b[0;34m\u001b[0m\u001b[0m\n\u001b[0;32m-> 2010\u001b[0;31m         \u001b[0mself\u001b[0m\u001b[0;34m.\u001b[0m\u001b[0m_reader\u001b[0m \u001b[0;34m=\u001b[0m \u001b[0mparsers\u001b[0m\u001b[0;34m.\u001b[0m\u001b[0mTextReader\u001b[0m\u001b[0;34m(\u001b[0m\u001b[0msrc\u001b[0m\u001b[0;34m,\u001b[0m \u001b[0;34m**\u001b[0m\u001b[0mkwds\u001b[0m\u001b[0;34m)\u001b[0m\u001b[0;34m\u001b[0m\u001b[0;34m\u001b[0m\u001b[0m\n\u001b[0m\u001b[1;32m   2011\u001b[0m         \u001b[0mself\u001b[0m\u001b[0;34m.\u001b[0m\u001b[0munnamed_cols\u001b[0m \u001b[0;34m=\u001b[0m \u001b[0mself\u001b[0m\u001b[0;34m.\u001b[0m\u001b[0m_reader\u001b[0m\u001b[0;34m.\u001b[0m\u001b[0munnamed_cols\u001b[0m\u001b[0;34m\u001b[0m\u001b[0;34m\u001b[0m\u001b[0m\n\u001b[1;32m   2012\u001b[0m \u001b[0;34m\u001b[0m\u001b[0m\n",
            "\u001b[0;32mpandas/_libs/parsers.pyx\u001b[0m in \u001b[0;36mpandas._libs.parsers.TextReader.__cinit__\u001b[0;34m()\u001b[0m\n",
            "\u001b[0;32mpandas/_libs/parsers.pyx\u001b[0m in \u001b[0;36mpandas._libs.parsers.TextReader._setup_parser_source\u001b[0;34m()\u001b[0m\n",
            "\u001b[0;31mFileNotFoundError\u001b[0m: [Errno 2] No such file or directory: '/content/drive/MyDrive/IPCA_S1_DATA/sample_prices.csv'"
          ]
        }
      ]
    },
    {
      "cell_type": "code",
      "metadata": {
        "id": "uyFdFKIsT5oq"
      },
      "source": [
        "price"
      ],
      "execution_count": null,
      "outputs": []
    },
    {
      "cell_type": "code",
      "metadata": {
        "id": "AKnMF5zqUN0_"
      },
      "source": [
        "returns = price.pct_change()\n",
        "returns"
      ],
      "execution_count": null,
      "outputs": []
    },
    {
      "cell_type": "code",
      "metadata": {
        "id": "eZ9vHUcRUWxO"
      },
      "source": [
        "returns.plot()\n",
        "price.plot()"
      ],
      "execution_count": null,
      "outputs": []
    },
    {
      "cell_type": "code",
      "metadata": {
        "id": "RxWcUZjiUfLm"
      },
      "source": [
        "%matplotlib inline"
      ],
      "execution_count": null,
      "outputs": []
    },
    {
      "cell_type": "code",
      "metadata": {
        "id": "B8c6ATOfUxpO"
      },
      "source": [
        "returns.plot.bar()"
      ],
      "execution_count": null,
      "outputs": []
    },
    {
      "cell_type": "code",
      "metadata": {
        "id": "mApTOfGHU4u2"
      },
      "source": [
        "returns.mean()"
      ],
      "execution_count": null,
      "outputs": []
    },
    {
      "cell_type": "code",
      "metadata": {
        "id": "GJQQ1O6zVAgH"
      },
      "source": [
        "returns.std()"
      ],
      "execution_count": null,
      "outputs": []
    },
    {
      "cell_type": "code",
      "metadata": {
        "id": "4V6s5t12VMd_"
      },
      "source": [
        "(returns+1).plot()"
      ],
      "execution_count": null,
      "outputs": []
    },
    {
      "cell_type": "code",
      "metadata": {
        "id": "yE8qznIwVOhE"
      },
      "source": [
        "import numpy as np\n",
        "(np.prod(returns+1)-1).round(2)"
      ],
      "execution_count": null,
      "outputs": []
    },
    {
      "cell_type": "markdown",
      "metadata": {
        "id": "D4BwxjNjWP7L"
      },
      "source": [
        "Annualization"
      ]
    },
    {
      "cell_type": "code",
      "metadata": {
        "id": "9GZsux1kVOmN"
      },
      "source": [
        "rm = 0.01\n",
        "t = 12\n",
        "((1+0.01)**12 -1).round(2)\n"
      ],
      "execution_count": null,
      "outputs": []
    },
    {
      "cell_type": "code",
      "metadata": {
        "id": "dy_cq1BuVOo2"
      },
      "source": [
        "rq = 0.04\n",
        "t = 4\n",
        "r = (1+rq)**t - 1\n",
        "round(r,2)"
      ],
      "execution_count": null,
      "outputs": []
    },
    {
      "cell_type": "code",
      "metadata": {
        "id": "HkBdOjvvVOrW",
        "colab": {
          "base_uri": "https://localhost:8080/"
        },
        "outputId": "19f29909-c3df-4a8c-ed12-9dfbbd253322"
      },
      "source": [
        "rd = 0.0001\n",
        "t = 252\n",
        "r = (1+rd)**t -1\n",
        "round(r,3)"
      ],
      "execution_count": null,
      "outputs": [
        {
          "output_type": "execute_result",
          "data": {
            "text/plain": [
              "0.026"
            ]
          },
          "metadata": {
            "tags": []
          },
          "execution_count": 1
        }
      ]
    },
    {
      "cell_type": "code",
      "metadata": {
        "id": "D48KzZcHVOuH"
      },
      "source": [
        ""
      ],
      "execution_count": null,
      "outputs": []
    },
    {
      "cell_type": "markdown",
      "metadata": {
        "id": "KHEEQuDJZDUu"
      },
      "source": [
        "Lab Seesion-Risk Adjusted returns"
      ]
    },
    {
      "cell_type": "code",
      "metadata": {
        "id": "qHcs8A-hVOwe"
      },
      "source": [
        "import pandas as pd\n",
        "import numpy as np\n",
        "from IPython.display import Math, HTML\n",
        "from google.colab import drive\n",
        "drive.mount('/content/drive')"
      ],
      "execution_count": null,
      "outputs": []
    },
    {
      "cell_type": "code",
      "metadata": {
        "id": "ym443ORXVOzP"
      },
      "source": [
        "prices = pd.read_csv('/content/drive/MyDrive/IPCA_S1_DATA/sample_prices.csv')\n",
        "returns = prices.pct_change()\n",
        "returns"
      ],
      "execution_count": null,
      "outputs": []
    },
    {
      "cell_type": "code",
      "metadata": {
        "id": "OuPGlcB9VO11"
      },
      "source": [
        "returns = returns.dropna()\n",
        "returns"
      ],
      "execution_count": null,
      "outputs": []
    },
    {
      "cell_type": "code",
      "metadata": {
        "id": "tP0i7VQMVO4d"
      },
      "source": [
        "returns.std()"
      ],
      "execution_count": null,
      "outputs": []
    },
    {
      "cell_type": "code",
      "metadata": {
        "id": "gbTJlhSaVO7T"
      },
      "source": [
        "deviations = returns - returns.mean()\n",
        "squared_deviations = deviations ** 2\n",
        "variance = squared_deviations.sum() / (squared_deviations.shape[0]-1)\n",
        "volatility = np.sqrt(variance)\n",
        "volatility"
      ],
      "execution_count": null,
      "outputs": []
    },
    {
      "cell_type": "code",
      "metadata": {
        "id": "EQFlQpDfVO9-"
      },
      "source": [
        "##ANNUALIZATION\n",
        "\n",
        "returns.std()*np.sqrt(12)"
      ],
      "execution_count": null,
      "outputs": []
    },
    {
      "cell_type": "code",
      "metadata": {
        "id": "JaRXrOBQVPAr"
      },
      "source": [
        "portfolios = pd.read_csv('/content/drive/MyDrive/IPCA_S1_DATA/Portfolios_Formed_on_ME_monthly_EW.csv',\n",
        "                         header=0, index_col=0, parse_dates=True, na_values=-99.99)"
      ],
      "execution_count": null,
      "outputs": []
    },
    {
      "cell_type": "code",
      "metadata": {
        "id": "W8RLSKpgVPDk"
      },
      "source": [
        "portfolios.head()"
      ],
      "execution_count": null,
      "outputs": []
    },
    {
      "cell_type": "code",
      "metadata": {
        "id": "4D1p9JiNVPF8"
      },
      "source": [
        "port = portfolios\n",
        "port.head()"
      ],
      "execution_count": null,
      "outputs": []
    },
    {
      "cell_type": "code",
      "metadata": {
        "id": "7naZF8QCVPI_"
      },
      "source": [
        "port = port/100\n",
        "port.head()"
      ],
      "execution_count": null,
      "outputs": []
    },
    {
      "cell_type": "code",
      "metadata": {
        "id": "BJD_4FTkcqjm"
      },
      "source": [
        "port.plot.line()\n"
      ],
      "execution_count": null,
      "outputs": []
    },
    {
      "cell_type": "code",
      "metadata": {
        "colab": {
          "base_uri": "https://localhost:8080/"
        },
        "id": "bWgg16spc1Mt",
        "outputId": "1265e786-640d-4330-fdf4-082185221914"
      },
      "source": [
        "port.std()"
      ],
      "execution_count": null,
      "outputs": [
        {
          "output_type": "execute_result",
          "data": {
            "text/plain": [
              "<= 0           NaN\n",
              "Lo 30     0.091210\n",
              "Med 40    0.070665\n",
              "Hi 30     0.058157\n",
              "Lo 20     0.097197\n",
              "Qnt 2     0.079290\n",
              "Qnt 3     0.070483\n",
              "Qnt 4     0.063937\n",
              "Hi 20     0.056325\n",
              "Lo 10     0.106288\n",
              "Dec 2     0.091175\n",
              "Dec 3     0.081928\n",
              "Dec 4     0.077232\n",
              "Dec 5     0.072125\n",
              "Dec 6     0.069327\n",
              "Dec 7     0.065924\n",
              "Dec 8     0.062627\n",
              "Dec 9     0.059532\n",
              "Hi 10     0.053900\n",
              "dtype: float64"
            ]
          },
          "metadata": {
            "tags": []
          },
          "execution_count": 74
        }
      ]
    },
    {
      "cell_type": "code",
      "metadata": {
        "colab": {
          "base_uri": "https://localhost:8080/"
        },
        "id": "GFMd6q-mc5yG",
        "outputId": "72892556-9069-409e-fad4-9d95c305c8d8"
      },
      "source": [
        "annualized_vol = port.std()*np.sqrt(12)\n",
        "annualized_vol"
      ],
      "execution_count": null,
      "outputs": [
        {
          "output_type": "execute_result",
          "data": {
            "text/plain": [
              "<= 0           NaN\n",
              "Lo 30     0.315962\n",
              "Med 40    0.244790\n",
              "Hi 30     0.201462\n",
              "Lo 20     0.336701\n",
              "Qnt 2     0.274667\n",
              "Qnt 3     0.244160\n",
              "Qnt 4     0.221486\n",
              "Hi 20     0.195116\n",
              "Lo 10     0.368193\n",
              "Dec 2     0.315841\n",
              "Dec 3     0.283806\n",
              "Dec 4     0.267540\n",
              "Dec 5     0.249848\n",
              "Dec 6     0.240157\n",
              "Dec 7     0.228367\n",
              "Dec 8     0.216948\n",
              "Dec 9     0.206224\n",
              "Hi 10     0.186716\n",
              "dtype: float64"
            ]
          },
          "metadata": {
            "tags": []
          },
          "execution_count": 75
        }
      ]
    },
    {
      "cell_type": "code",
      "metadata": {
        "colab": {
          "base_uri": "https://localhost:8080/"
        },
        "id": "nRrZtmOKdMPN",
        "outputId": "e2355eca-7ea6-453a-ee00-5f93ac65b975"
      },
      "source": [
        "n_months = port.shape[0]\n",
        "return_per_month = (port+1).prod()**(1/n_months) - 1\n",
        "return_per_month"
      ],
      "execution_count": null,
      "outputs": [
        {
          "output_type": "execute_result",
          "data": {
            "text/plain": [
              "<= 0      0.000000\n",
              "Lo 30     0.011289\n",
              "Med 40    0.009098\n",
              "Hi 30     0.008149\n",
              "Lo 20     0.011860\n",
              "Qnt 2     0.009469\n",
              "Qnt 3     0.009159\n",
              "Qnt 4     0.008696\n",
              "Hi 20     0.007859\n",
              "Lo 10     0.012986\n",
              "Dec 2     0.009676\n",
              "Dec 3     0.009565\n",
              "Dec 4     0.009312\n",
              "Dec 5     0.008939\n",
              "Dec 6     0.009333\n",
              "Dec 7     0.008696\n",
              "Dec 8     0.008643\n",
              "Dec 9     0.008229\n",
              "Hi 10     0.007423\n",
              "dtype: float64"
            ]
          },
          "metadata": {
            "tags": []
          },
          "execution_count": 76
        }
      ]
    },
    {
      "cell_type": "code",
      "metadata": {
        "colab": {
          "base_uri": "https://localhost:8080/"
        },
        "id": "l4RwX3nDd3fV",
        "outputId": "5889cb26-b076-434f-def1-5ede63ef80fb"
      },
      "source": [
        "## Annualized_return\n",
        "annualized_return = (return_per_month+1)**12 - 1\n",
        "annualized_return"
      ],
      "execution_count": null,
      "outputs": [
        {
          "output_type": "execute_result",
          "data": {
            "text/plain": [
              "<= 0      0.000000\n",
              "Lo 30     0.144204\n",
              "Med 40    0.114807\n",
              "Hi 30     0.102293\n",
              "Lo 20     0.151977\n",
              "Qnt 2     0.119742\n",
              "Qnt 3     0.115613\n",
              "Qnt 4     0.109488\n",
              "Hi 20     0.098490\n",
              "Lo 10     0.167463\n",
              "Dec 2     0.122493\n",
              "Dec 3     0.121011\n",
              "Dec 4     0.117643\n",
              "Dec 5     0.112702\n",
              "Dec 6     0.117929\n",
              "Dec 7     0.109493\n",
              "Dec 8     0.108793\n",
              "Dec 9     0.103338\n",
              "Hi 10     0.092810\n",
              "dtype: float64"
            ]
          },
          "metadata": {
            "tags": []
          },
          "execution_count": 77
        }
      ]
    },
    {
      "cell_type": "code",
      "metadata": {
        "colab": {
          "base_uri": "https://localhost:8080/"
        },
        "id": "pDhAQQoogz5N",
        "outputId": "fef125e5-434c-45a7-ce0f-1f80108cf11b"
      },
      "source": [
        "riskfree_rate = 0.03\n",
        "excess_return = annualized_return - riskfree_rate\n",
        "excess_return\n"
      ],
      "execution_count": null,
      "outputs": [
        {
          "output_type": "execute_result",
          "data": {
            "text/plain": [
              "<= 0     -0.030000\n",
              "Lo 30     0.114204\n",
              "Med 40    0.084807\n",
              "Hi 30     0.072293\n",
              "Lo 20     0.121977\n",
              "Qnt 2     0.089742\n",
              "Qnt 3     0.085613\n",
              "Qnt 4     0.079488\n",
              "Hi 20     0.068490\n",
              "Lo 10     0.137463\n",
              "Dec 2     0.092493\n",
              "Dec 3     0.091011\n",
              "Dec 4     0.087643\n",
              "Dec 5     0.082702\n",
              "Dec 6     0.087929\n",
              "Dec 7     0.079493\n",
              "Dec 8     0.078793\n",
              "Dec 9     0.073338\n",
              "Hi 10     0.062810\n",
              "dtype: float64"
            ]
          },
          "metadata": {
            "tags": []
          },
          "execution_count": 78
        }
      ]
    },
    {
      "cell_type": "code",
      "metadata": {
        "colab": {
          "base_uri": "https://localhost:8080/"
        },
        "id": "RysISwiqg21F",
        "outputId": "18d314f4-05b7-42eb-e9bf-84388db86fd8"
      },
      "source": [
        "sharpe_ratio = excess_return/annualized_vol\n",
        "sharpe_ratio"
      ],
      "execution_count": null,
      "outputs": [
        {
          "output_type": "execute_result",
          "data": {
            "text/plain": [
              "<= 0           NaN\n",
              "Lo 30     0.361450\n",
              "Med 40    0.346449\n",
              "Hi 30     0.358843\n",
              "Lo 20     0.362271\n",
              "Qnt 2     0.326730\n",
              "Qnt 3     0.350643\n",
              "Qnt 4     0.358883\n",
              "Hi 20     0.351023\n",
              "Lo 10     0.373346\n",
              "Dec 2     0.292848\n",
              "Dec 3     0.320680\n",
              "Dec 4     0.327587\n",
              "Dec 5     0.331010\n",
              "Dec 6     0.366129\n",
              "Dec 7     0.348094\n",
              "Dec 8     0.363190\n",
              "Dec 9     0.355621\n",
              "Hi 10     0.336392\n",
              "dtype: float64"
            ]
          },
          "metadata": {
            "tags": []
          },
          "execution_count": 81
        }
      ]
    },
    {
      "cell_type": "markdown",
      "metadata": {
        "id": "rgVXzoWYjSLX"
      },
      "source": [
        "LAB Session DRAWDOWN\n"
      ]
    },
    {
      "cell_type": "code",
      "metadata": {
        "colab": {
          "base_uri": "https://localhost:8080/"
        },
        "id": "GOcD2sp9jD1t",
        "outputId": "e3178145-e749-4aa4-94cd-9d0163360a74"
      },
      "source": [
        "import pandas as pd\n",
        "import numpy as np\n",
        "from IPython.display import Math, HTML\n",
        "from google.colab import drive\n",
        "drive.mount('/content/drive')"
      ],
      "execution_count": null,
      "outputs": [
        {
          "output_type": "stream",
          "text": [
            "Drive already mounted at /content/drive; to attempt to forcibly remount, call drive.mount(\"/content/drive\", force_remount=True).\n"
          ],
          "name": "stdout"
        }
      ]
    },
    {
      "cell_type": "code",
      "metadata": {
        "id": "_96btPzfjmKF"
      },
      "source": [
        "data = pd.read_csv('/content/drive/MyDrive/IPCA_S1_DATA/Portfolios_Formed_on_ME_monthly_EW.csv',\n",
        "                         header=0, index_col=0, parse_dates=True, na_values=-99.99)"
      ],
      "execution_count": null,
      "outputs": []
    },
    {
      "cell_type": "code",
      "metadata": {
        "colab": {
          "base_uri": "https://localhost:8080/",
          "height": 341
        },
        "id": "opKWLLuVCrwr",
        "outputId": "57110e45-1984-4428-c944-714f905ed4f7"
      },
      "source": [
        "rets = data\n",
        "rets = rets/100\n",
        "rets.plot.line()\n"
      ],
      "execution_count": null,
      "outputs": [
        {
          "output_type": "execute_result",
          "data": {
            "text/plain": [
              "<matplotlib.axes._subplots.AxesSubplot at 0x7fd6513fec50>"
            ]
          },
          "metadata": {
            "tags": []
          },
          "execution_count": 128
        },
        {
          "output_type": "display_data",
          "data": {
            "image/png": "[encoded data removed]",
            "text/plain": [
              "<Figure size 432x288 with 1 Axes>"
            ]
          },
          "metadata": {
            "tags": [],
            "needs_background": "light"
          }
        }
      ]
    },
    {
      "cell_type": "code",
      "metadata": {
        "colab": {
          "base_uri": "https://localhost:8080/",
          "height": 326
        },
        "id": "Ibcc8tr9C--x",
        "outputId": "be5ae4f3-e045-44f0-8486-a746737af098"
      },
      "source": [
        "rets.index = pd.to_datetime(rets.index, format=\"%Y%m\")\n",
        "rets.index = rets.index.to_period('M')\n",
        "rets.head()"
      ],
      "execution_count": null,
      "outputs": [
        {
          "output_type": "execute_result",
          "data": {
            "text/html": [
              "<div>\n",
              "<style scoped>\n",
              "    .dataframe tbody tr th:only-of-type {\n",
              "        vertical-align: middle;\n",
              "    }\n",
              "\n",
              "    .dataframe tbody tr th {\n",
              "        vertical-align: top;\n",
              "    }\n",
              "\n",
              "    .dataframe thead th {\n",
              "        text-align: right;\n",
              "    }\n",
              "</style>\n",
              "<table border=\"1\" class=\"dataframe\">\n",
              "  <thead>\n",
              "    <tr style=\"text-align: right;\">\n",
              "      <th></th>\n",
              "      <th>&lt;= 0</th>\n",
              "      <th>Lo 30</th>\n",
              "      <th>Med 40</th>\n",
              "      <th>Hi 30</th>\n",
              "      <th>Lo 20</th>\n",
              "      <th>Qnt 2</th>\n",
              "      <th>Qnt 3</th>\n",
              "      <th>Qnt 4</th>\n",
              "      <th>Hi 20</th>\n",
              "      <th>Lo 10</th>\n",
              "      <th>Dec 2</th>\n",
              "      <th>Dec 3</th>\n",
              "      <th>Dec 4</th>\n",
              "      <th>Dec 5</th>\n",
              "      <th>Dec 6</th>\n",
              "      <th>Dec 7</th>\n",
              "      <th>Dec 8</th>\n",
              "      <th>Dec 9</th>\n",
              "      <th>Hi 10</th>\n",
              "    </tr>\n",
              "  </thead>\n",
              "  <tbody>\n",
              "    <tr>\n",
              "      <th>1926-07</th>\n",
              "      <td>NaN</td>\n",
              "      <td>-0.0043</td>\n",
              "      <td>0.0152</td>\n",
              "      <td>0.0268</td>\n",
              "      <td>-0.0057</td>\n",
              "      <td>0.0059</td>\n",
              "      <td>0.0160</td>\n",
              "      <td>0.0147</td>\n",
              "      <td>0.0333</td>\n",
              "      <td>-0.0145</td>\n",
              "      <td>0.0029</td>\n",
              "      <td>-0.0015</td>\n",
              "      <td>0.0133</td>\n",
              "      <td>0.0124</td>\n",
              "      <td>0.0198</td>\n",
              "      <td>0.0155</td>\n",
              "      <td>0.0138</td>\n",
              "      <td>0.0338</td>\n",
              "      <td>0.0329</td>\n",
              "    </tr>\n",
              "    <tr>\n",
              "      <th>1926-08</th>\n",
              "      <td>NaN</td>\n",
              "      <td>0.0390</td>\n",
              "      <td>0.0304</td>\n",
              "      <td>0.0209</td>\n",
              "      <td>0.0384</td>\n",
              "      <td>0.0359</td>\n",
              "      <td>0.0371</td>\n",
              "      <td>0.0161</td>\n",
              "      <td>0.0233</td>\n",
              "      <td>0.0512</td>\n",
              "      <td>0.0259</td>\n",
              "      <td>0.0403</td>\n",
              "      <td>0.0315</td>\n",
              "      <td>0.0272</td>\n",
              "      <td>0.0472</td>\n",
              "      <td>0.0160</td>\n",
              "      <td>0.0163</td>\n",
              "      <td>0.0098</td>\n",
              "      <td>0.0370</td>\n",
              "    </tr>\n",
              "    <tr>\n",
              "      <th>1926-09</th>\n",
              "      <td>NaN</td>\n",
              "      <td>-0.0108</td>\n",
              "      <td>-0.0054</td>\n",
              "      <td>0.0016</td>\n",
              "      <td>-0.0048</td>\n",
              "      <td>-0.0140</td>\n",
              "      <td>0.0000</td>\n",
              "      <td>-0.0050</td>\n",
              "      <td>-0.0009</td>\n",
              "      <td>0.0093</td>\n",
              "      <td>-0.0187</td>\n",
              "      <td>-0.0227</td>\n",
              "      <td>-0.0053</td>\n",
              "      <td>0.0007</td>\n",
              "      <td>-0.0007</td>\n",
              "      <td>-0.0164</td>\n",
              "      <td>0.0064</td>\n",
              "      <td>-0.0086</td>\n",
              "      <td>0.0067</td>\n",
              "    </tr>\n",
              "    <tr>\n",
              "      <th>1926-10</th>\n",
              "      <td>NaN</td>\n",
              "      <td>-0.0332</td>\n",
              "      <td>-0.0352</td>\n",
              "      <td>-0.0306</td>\n",
              "      <td>-0.0329</td>\n",
              "      <td>-0.0410</td>\n",
              "      <td>-0.0289</td>\n",
              "      <td>-0.0336</td>\n",
              "      <td>-0.0295</td>\n",
              "      <td>-0.0484</td>\n",
              "      <td>-0.0177</td>\n",
              "      <td>-0.0336</td>\n",
              "      <td>-0.0483</td>\n",
              "      <td>-0.0298</td>\n",
              "      <td>-0.0280</td>\n",
              "      <td>-0.0345</td>\n",
              "      <td>-0.0327</td>\n",
              "      <td>-0.0347</td>\n",
              "      <td>-0.0243</td>\n",
              "    </tr>\n",
              "    <tr>\n",
              "      <th>1926-11</th>\n",
              "      <td>NaN</td>\n",
              "      <td>-0.0046</td>\n",
              "      <td>0.0382</td>\n",
              "      <td>0.0309</td>\n",
              "      <td>-0.0055</td>\n",
              "      <td>0.0218</td>\n",
              "      <td>0.0341</td>\n",
              "      <td>0.0339</td>\n",
              "      <td>0.0316</td>\n",
              "      <td>-0.0078</td>\n",
              "      <td>-0.0032</td>\n",
              "      <td>-0.0029</td>\n",
              "      <td>0.0465</td>\n",
              "      <td>0.0324</td>\n",
              "      <td>0.0357</td>\n",
              "      <td>0.0382</td>\n",
              "      <td>0.0295</td>\n",
              "      <td>0.0361</td>\n",
              "      <td>0.0270</td>\n",
              "    </tr>\n",
              "  </tbody>\n",
              "</table>\n",
              "</div>"
            ],
            "text/plain": [
              "         <= 0   Lo 30  Med 40   Hi 30  ...   Dec 7   Dec 8   Dec 9   Hi 10\n",
              "1926-07   NaN -0.0043  0.0152  0.0268  ...  0.0155  0.0138  0.0338  0.0329\n",
              "1926-08   NaN  0.0390  0.0304  0.0209  ...  0.0160  0.0163  0.0098  0.0370\n",
              "1926-09   NaN -0.0108 -0.0054  0.0016  ... -0.0164  0.0064 -0.0086  0.0067\n",
              "1926-10   NaN -0.0332 -0.0352 -0.0306  ... -0.0345 -0.0327 -0.0347 -0.0243\n",
              "1926-11   NaN -0.0046  0.0382  0.0309  ...  0.0382  0.0295  0.0361  0.0270\n",
              "\n",
              "[5 rows x 19 columns]"
            ]
          },
          "metadata": {
            "tags": []
          },
          "execution_count": 129
        }
      ]
    },
    {
      "cell_type": "code",
      "metadata": {
        "colab": {
          "base_uri": "https://localhost:8080/"
        },
        "id": "YWfqNLsKDGBi",
        "outputId": "3ca9b49e-79b9-4b93-c223-de9a3124e3fb"
      },
      "source": [
        "rets.index"
      ],
      "execution_count": null,
      "outputs": [
        {
          "output_type": "execute_result",
          "data": {
            "text/plain": [
              "PeriodIndex(['1926-07', '1926-08', '1926-09', '1926-10', '1926-11', '1926-12',\n",
              "             '1927-01', '1927-02', '1927-03', '1927-04',\n",
              "             ...\n",
              "             '2018-03', '2018-04', '2018-05', '2018-06', '2018-07', '2018-08',\n",
              "             '2018-09', '2018-10', '2018-11', '2018-12'],\n",
              "            dtype='period[M]', length=1110, freq='M')"
            ]
          },
          "metadata": {
            "tags": []
          },
          "execution_count": 130
        }
      ]
    },
    {
      "cell_type": "code",
      "metadata": {
        "id": "TIBII_GJD0nq"
      },
      "source": [
        "## Drawdowns\n",
        "#1. Compute a wealth index\n",
        "#2. Compute previous peaks\n",
        "#3. Compute drawdown - which is the wealth value as percentage of the previous peak"
      ],
      "execution_count": null,
      "outputs": []
    },
    {
      "cell_type": "code",
      "metadata": {
        "colab": {
          "base_uri": "https://localhost:8080/",
          "height": 326
        },
        "id": "hvRN8Om9Ez7i",
        "outputId": "9ee1b06a-82ec-4279-e388-ff816e5f15a1"
      },
      "source": [
        "wealth_index = 1000*(1+rets).cumprod()\n",
        "wealth_index.head()"
      ],
      "execution_count": null,
      "outputs": [
        {
          "output_type": "execute_result",
          "data": {
            "text/html": [
              "<div>\n",
              "<style scoped>\n",
              "    .dataframe tbody tr th:only-of-type {\n",
              "        vertical-align: middle;\n",
              "    }\n",
              "\n",
              "    .dataframe tbody tr th {\n",
              "        vertical-align: top;\n",
              "    }\n",
              "\n",
              "    .dataframe thead th {\n",
              "        text-align: right;\n",
              "    }\n",
              "</style>\n",
              "<table border=\"1\" class=\"dataframe\">\n",
              "  <thead>\n",
              "    <tr style=\"text-align: right;\">\n",
              "      <th></th>\n",
              "      <th>&lt;= 0</th>\n",
              "      <th>Lo 30</th>\n",
              "      <th>Med 40</th>\n",
              "      <th>Hi 30</th>\n",
              "      <th>Lo 20</th>\n",
              "      <th>Qnt 2</th>\n",
              "      <th>Qnt 3</th>\n",
              "      <th>Qnt 4</th>\n",
              "      <th>Hi 20</th>\n",
              "      <th>Lo 10</th>\n",
              "      <th>Dec 2</th>\n",
              "      <th>Dec 3</th>\n",
              "      <th>Dec 4</th>\n",
              "      <th>Dec 5</th>\n",
              "      <th>Dec 6</th>\n",
              "      <th>Dec 7</th>\n",
              "      <th>Dec 8</th>\n",
              "      <th>Dec 9</th>\n",
              "      <th>Hi 10</th>\n",
              "    </tr>\n",
              "  </thead>\n",
              "  <tbody>\n",
              "    <tr>\n",
              "      <th>1926-07</th>\n",
              "      <td>NaN</td>\n",
              "      <td>995.700000</td>\n",
              "      <td>1015.200000</td>\n",
              "      <td>1026.800000</td>\n",
              "      <td>994.300000</td>\n",
              "      <td>1005.900000</td>\n",
              "      <td>1016.000000</td>\n",
              "      <td>1014.700000</td>\n",
              "      <td>1033.300000</td>\n",
              "      <td>985.500000</td>\n",
              "      <td>1002.900000</td>\n",
              "      <td>998.500000</td>\n",
              "      <td>1013.300000</td>\n",
              "      <td>1012.400000</td>\n",
              "      <td>1019.800000</td>\n",
              "      <td>1015.500000</td>\n",
              "      <td>1013.800000</td>\n",
              "      <td>1033.800000</td>\n",
              "      <td>1032.900000</td>\n",
              "    </tr>\n",
              "    <tr>\n",
              "      <th>1926-08</th>\n",
              "      <td>NaN</td>\n",
              "      <td>1034.532300</td>\n",
              "      <td>1046.062080</td>\n",
              "      <td>1048.260120</td>\n",
              "      <td>1032.481120</td>\n",
              "      <td>1042.011810</td>\n",
              "      <td>1053.693600</td>\n",
              "      <td>1031.036670</td>\n",
              "      <td>1057.375890</td>\n",
              "      <td>1035.957600</td>\n",
              "      <td>1028.875110</td>\n",
              "      <td>1038.739550</td>\n",
              "      <td>1045.218950</td>\n",
              "      <td>1039.937280</td>\n",
              "      <td>1067.934560</td>\n",
              "      <td>1031.748000</td>\n",
              "      <td>1030.324940</td>\n",
              "      <td>1043.931240</td>\n",
              "      <td>1071.117300</td>\n",
              "    </tr>\n",
              "    <tr>\n",
              "      <th>1926-09</th>\n",
              "      <td>NaN</td>\n",
              "      <td>1023.359351</td>\n",
              "      <td>1040.413345</td>\n",
              "      <td>1049.937336</td>\n",
              "      <td>1027.525211</td>\n",
              "      <td>1027.423645</td>\n",
              "      <td>1053.693600</td>\n",
              "      <td>1025.881487</td>\n",
              "      <td>1056.424252</td>\n",
              "      <td>1045.592006</td>\n",
              "      <td>1009.635145</td>\n",
              "      <td>1015.160162</td>\n",
              "      <td>1039.679290</td>\n",
              "      <td>1040.665236</td>\n",
              "      <td>1067.187006</td>\n",
              "      <td>1014.827333</td>\n",
              "      <td>1036.919020</td>\n",
              "      <td>1034.953431</td>\n",
              "      <td>1078.293786</td>\n",
              "    </tr>\n",
              "    <tr>\n",
              "      <th>1926-10</th>\n",
              "      <td>NaN</td>\n",
              "      <td>989.383821</td>\n",
              "      <td>1003.790795</td>\n",
              "      <td>1017.809254</td>\n",
              "      <td>993.719631</td>\n",
              "      <td>985.299275</td>\n",
              "      <td>1023.241855</td>\n",
              "      <td>991.411869</td>\n",
              "      <td>1025.259736</td>\n",
              "      <td>994.985353</td>\n",
              "      <td>991.764603</td>\n",
              "      <td>981.050781</td>\n",
              "      <td>989.462780</td>\n",
              "      <td>1009.653412</td>\n",
              "      <td>1037.305770</td>\n",
              "      <td>979.815790</td>\n",
              "      <td>1003.011768</td>\n",
              "      <td>999.040547</td>\n",
              "      <td>1052.091247</td>\n",
              "    </tr>\n",
              "    <tr>\n",
              "      <th>1926-11</th>\n",
              "      <td>NaN</td>\n",
              "      <td>984.832655</td>\n",
              "      <td>1042.135603</td>\n",
              "      <td>1049.259560</td>\n",
              "      <td>988.254173</td>\n",
              "      <td>1006.778799</td>\n",
              "      <td>1058.134402</td>\n",
              "      <td>1025.020731</td>\n",
              "      <td>1057.657944</td>\n",
              "      <td>987.224467</td>\n",
              "      <td>988.590957</td>\n",
              "      <td>978.205734</td>\n",
              "      <td>1035.472799</td>\n",
              "      <td>1042.366183</td>\n",
              "      <td>1074.337586</td>\n",
              "      <td>1017.244753</td>\n",
              "      <td>1032.600615</td>\n",
              "      <td>1035.105911</td>\n",
              "      <td>1080.497711</td>\n",
              "    </tr>\n",
              "  </tbody>\n",
              "</table>\n",
              "</div>"
            ],
            "text/plain": [
              "         <= 0        Lo 30       Med 40  ...        Dec 8        Dec 9        Hi 10\n",
              "1926-07   NaN   995.700000  1015.200000  ...  1013.800000  1033.800000  1032.900000\n",
              "1926-08   NaN  1034.532300  1046.062080  ...  1030.324940  1043.931240  1071.117300\n",
              "1926-09   NaN  1023.359351  1040.413345  ...  1036.919020  1034.953431  1078.293786\n",
              "1926-10   NaN   989.383821  1003.790795  ...  1003.011768   999.040547  1052.091247\n",
              "1926-11   NaN   984.832655  1042.135603  ...  1032.600615  1035.105911  1080.497711\n",
              "\n",
              "[5 rows x 19 columns]"
            ]
          },
          "metadata": {
            "tags": []
          },
          "execution_count": 132
        }
      ]
    },
    {
      "cell_type": "code",
      "metadata": {
        "colab": {
          "base_uri": "https://localhost:8080/",
          "height": 326
        },
        "id": "UBnj2h2aFC7y",
        "outputId": "b823cd48-1ac0-476b-caf9-bf0346fa3f88"
      },
      "source": [
        "wealth_index[:\"1975\"].tail()"
      ],
      "execution_count": null,
      "outputs": [
        {
          "output_type": "execute_result",
          "data": {
            "text/html": [
              "<div>\n",
              "<style scoped>\n",
              "    .dataframe tbody tr th:only-of-type {\n",
              "        vertical-align: middle;\n",
              "    }\n",
              "\n",
              "    .dataframe tbody tr th {\n",
              "        vertical-align: top;\n",
              "    }\n",
              "\n",
              "    .dataframe thead th {\n",
              "        text-align: right;\n",
              "    }\n",
              "</style>\n",
              "<table border=\"1\" class=\"dataframe\">\n",
              "  <thead>\n",
              "    <tr style=\"text-align: right;\">\n",
              "      <th></th>\n",
              "      <th>&lt;= 0</th>\n",
              "      <th>Lo 30</th>\n",
              "      <th>Med 40</th>\n",
              "      <th>Hi 30</th>\n",
              "      <th>Lo 20</th>\n",
              "      <th>Qnt 2</th>\n",
              "      <th>Qnt 3</th>\n",
              "      <th>Qnt 4</th>\n",
              "      <th>Hi 20</th>\n",
              "      <th>Lo 10</th>\n",
              "      <th>Dec 2</th>\n",
              "      <th>Dec 3</th>\n",
              "      <th>Dec 4</th>\n",
              "      <th>Dec 5</th>\n",
              "      <th>Dec 6</th>\n",
              "      <th>Dec 7</th>\n",
              "      <th>Dec 8</th>\n",
              "      <th>Dec 9</th>\n",
              "      <th>Hi 10</th>\n",
              "    </tr>\n",
              "  </thead>\n",
              "  <tbody>\n",
              "    <tr>\n",
              "      <th>1975-08</th>\n",
              "      <td>NaN</td>\n",
              "      <td>907749.120501</td>\n",
              "      <td>113986.582278</td>\n",
              "      <td>58597.971232</td>\n",
              "      <td>1.681452e+06</td>\n",
              "      <td>180516.992086</td>\n",
              "      <td>114140.256138</td>\n",
              "      <td>75815.783953</td>\n",
              "      <td>48586.643252</td>\n",
              "      <td>4.867272e+06</td>\n",
              "      <td>356873.058861</td>\n",
              "      <td>183213.718832</td>\n",
              "      <td>169401.748223</td>\n",
              "      <td>94574.125451</td>\n",
              "      <td>132471.378398</td>\n",
              "      <td>68445.384979</td>\n",
              "      <td>81330.385276</td>\n",
              "      <td>58891.838757</td>\n",
              "      <td>38652.853005</td>\n",
              "    </tr>\n",
              "    <tr>\n",
              "      <th>1975-09</th>\n",
              "      <td>NaN</td>\n",
              "      <td>875887.126372</td>\n",
              "      <td>109438.517645</td>\n",
              "      <td>56236.472991</td>\n",
              "      <td>1.622097e+06</td>\n",
              "      <td>173801.759980</td>\n",
              "      <td>109677.372123</td>\n",
              "      <td>72722.499967</td>\n",
              "      <td>46652.894851</td>\n",
              "      <td>4.696431e+06</td>\n",
              "      <td>343918.566824</td>\n",
              "      <td>177057.737880</td>\n",
              "      <td>162473.216720</td>\n",
              "      <td>91074.882809</td>\n",
              "      <td>126894.333368</td>\n",
              "      <td>65666.502349</td>\n",
              "      <td>77995.839480</td>\n",
              "      <td>56960.186446</td>\n",
              "      <td>36843.899484</td>\n",
              "    </tr>\n",
              "    <tr>\n",
              "      <th>1975-10</th>\n",
              "      <td>NaN</td>\n",
              "      <td>880354.150716</td>\n",
              "      <td>112962.437914</td>\n",
              "      <td>59605.037723</td>\n",
              "      <td>1.626963e+06</td>\n",
              "      <td>178390.126443</td>\n",
              "      <td>112583.822484</td>\n",
              "      <td>76889.499215</td>\n",
              "      <td>49428.742095</td>\n",
              "      <td>4.692204e+06</td>\n",
              "      <td>351622.342721</td>\n",
              "      <td>181572.710195</td>\n",
              "      <td>166908.735537</td>\n",
              "      <td>92732.445677</td>\n",
              "      <td>131716.318036</td>\n",
              "      <td>69219.060126</td>\n",
              "      <td>82722.387352</td>\n",
              "      <td>60201.221055</td>\n",
              "      <td>39128.221252</td>\n",
              "    </tr>\n",
              "    <tr>\n",
              "      <th>1975-11</th>\n",
              "      <td>NaN</td>\n",
              "      <td>893735.533807</td>\n",
              "      <td>115888.165055</td>\n",
              "      <td>61655.451021</td>\n",
              "      <td>1.649415e+06</td>\n",
              "      <td>182742.845529</td>\n",
              "      <td>115420.934811</td>\n",
              "      <td>79911.256535</td>\n",
              "      <td>50881.947112</td>\n",
              "      <td>4.752733e+06</td>\n",
              "      <td>358092.193827</td>\n",
              "      <td>186693.060623</td>\n",
              "      <td>170347.055489</td>\n",
              "      <td>94355.263476</td>\n",
              "      <td>136431.762222</td>\n",
              "      <td>71704.024384</td>\n",
              "      <td>86271.177770</td>\n",
              "      <td>61796.553413</td>\n",
              "      <td>40392.062799</td>\n",
              "    </tr>\n",
              "    <tr>\n",
              "      <th>1975-12</th>\n",
              "      <td>NaN</td>\n",
              "      <td>889892.471012</td>\n",
              "      <td>115725.921624</td>\n",
              "      <td>61094.386417</td>\n",
              "      <td>1.643642e+06</td>\n",
              "      <td>180824.045651</td>\n",
              "      <td>115651.776680</td>\n",
              "      <td>79535.673629</td>\n",
              "      <td>50454.538756</td>\n",
              "      <td>4.732772e+06</td>\n",
              "      <td>358235.430704</td>\n",
              "      <td>184322.058753</td>\n",
              "      <td>168950.209634</td>\n",
              "      <td>94430.747687</td>\n",
              "      <td>136936.559742</td>\n",
              "      <td>71747.046799</td>\n",
              "      <td>85391.211757</td>\n",
              "      <td>61740.936515</td>\n",
              "      <td>39749.829000</td>\n",
              "    </tr>\n",
              "  </tbody>\n",
              "</table>\n",
              "</div>"
            ],
            "text/plain": [
              "         <= 0          Lo 30  ...         Dec 9         Hi 10\n",
              "1975-08   NaN  907749.120501  ...  58891.838757  38652.853005\n",
              "1975-09   NaN  875887.126372  ...  56960.186446  36843.899484\n",
              "1975-10   NaN  880354.150716  ...  60201.221055  39128.221252\n",
              "1975-11   NaN  893735.533807  ...  61796.553413  40392.062799\n",
              "1975-12   NaN  889892.471012  ...  61740.936515  39749.829000\n",
              "\n",
              "[5 rows x 19 columns]"
            ]
          },
          "metadata": {
            "tags": []
          },
          "execution_count": 143
        }
      ]
    },
    {
      "cell_type": "code",
      "metadata": {
        "colab": {
          "base_uri": "https://localhost:8080/",
          "height": 358
        },
        "id": "aJmC7jkdFKrB",
        "outputId": "b616e0d9-527d-4087-c2fc-e6af62dbb52a"
      },
      "source": [
        "previous_peak = wealth_index.cummax()\n",
        "previous_peak.plot()"
      ],
      "execution_count": null,
      "outputs": [
        {
          "output_type": "execute_result",
          "data": {
            "text/plain": [
              "<matplotlib.axes._subplots.AxesSubplot at 0x7fd650a8bb00>"
            ]
          },
          "metadata": {
            "tags": []
          },
          "execution_count": 134
        },
        {
          "output_type": "display_data",
          "data": {
            "image/png": "[encoded data removed]",
            "text/plain": [
              "<Figure size 432x288 with 1 Axes>"
            ]
          },
          "metadata": {
            "tags": [],
            "needs_background": "light"
          }
        }
      ]
    },
    {
      "cell_type": "code",
      "metadata": {
        "colab": {
          "base_uri": "https://localhost:8080/",
          "height": 358
        },
        "id": "9eqg_zpXFVK5",
        "outputId": "d2d5aaf2-f68f-4976-c1f5-c614a7de5e6d"
      },
      "source": [
        "drawdown = (wealth_index - previous_peak) / previous_peak\n",
        "drawdown.plot()"
      ],
      "execution_count": null,
      "outputs": [
        {
          "output_type": "execute_result",
          "data": {
            "text/plain": [
              "<matplotlib.axes._subplots.AxesSubplot at 0x7fd65073ebe0>"
            ]
          },
          "metadata": {
            "tags": []
          },
          "execution_count": 135
        },
        {
          "output_type": "display_data",
          "data": {
            "image/png": "[encoded data removed]",
            "text/plain": [
              "<Figure size 432x288 with 1 Axes>"
            ]
          },
          "metadata": {
            "tags": [],
            "needs_background": "light"
          }
        }
      ]
    },
    {
      "cell_type": "code",
      "metadata": {
        "colab": {
          "base_uri": "https://localhost:8080/"
        },
        "id": "tT7_4BRWFoZJ",
        "outputId": "cc20c94f-4fcb-4276-e6a7-5ba96d25870f"
      },
      "source": [
        "wealth_index['1975':].max()"
      ],
      "execution_count": null,
      "outputs": [
        {
          "output_type": "execute_result",
          "data": {
            "text/plain": [
              "<= 0               NaN\n",
              "Lo 30     3.522995e+08\n",
              "Med 40    2.966799e+07\n",
              "Hi 30     9.597412e+06\n",
              "Lo 20     6.644003e+08\n",
              "Qnt 2     4.555410e+07\n",
              "Qnt 3     3.196300e+07\n",
              "Qnt 4     1.824750e+07\n",
              "Hi 20     6.892298e+06\n",
              "Lo 10     2.298938e+09\n",
              "Dec 2     5.935197e+07\n",
              "Dec 3     5.105219e+07\n",
              "Dec 4     3.782798e+07\n",
              "Dec 5     2.551611e+07\n",
              "Dec 6     3.792620e+07\n",
              "Dec 7     1.857240e+07\n",
              "Dec 8     1.690345e+07\n",
              "Dec 9     1.055169e+07\n",
              "Hi 10     4.212246e+06\n",
              "dtype: float64"
            ]
          },
          "metadata": {
            "tags": []
          },
          "execution_count": 139
        }
      ]
    },
    {
      "cell_type": "code",
      "metadata": {
        "colab": {
          "base_uri": "https://localhost:8080/"
        },
        "id": "1bVqELR5F0RR",
        "outputId": "c7f94009-368f-4419-b9a4-3ea81cede5ed"
      },
      "source": [
        "drawdown.idxmin()"
      ],
      "execution_count": null,
      "outputs": [
        {
          "output_type": "execute_result",
          "data": {
            "text/plain": [
              "Period('1932-05', 'M')"
            ]
          },
          "metadata": {
            "tags": []
          },
          "execution_count": 105
        }
      ]
    },
    {
      "cell_type": "markdown",
      "metadata": {
        "id": "lym2k5rNGcqw"
      },
      "source": [
        "DRAWDOWN FUNCTION"
      ]
    },
    {
      "cell_type": "code",
      "metadata": {
        "id": "UuQ9H96kGMCp"
      },
      "source": [
        "def drawdown(return_series: pd.Series):\n",
        "  \"\"\"\n",
        "  Takes a time series of asset returns\n",
        "  Computes and returns a DataFrame that contains:\n",
        "  the wealth index\n",
        "  the previous peaks\n",
        "  percent drawdowns\n",
        "  \"\"\"\n",
        "  wealth_index = 1000*(1+return_series).cumprod()\n",
        "  previous_peaks = wealth_index.cummax()\n",
        "  drawdowns = (wealth_index - previous_peaks)/previous_peaks\n",
        "  return pd.DataFrame({\n",
        "      \"Wealth\": wealth_index,\n",
        "      \"Peaks\" : previous_peaks,\n",
        "      \"Drawdown\": drawdowns\n",
        "  })\n"
      ],
      "execution_count": null,
      "outputs": []
    },
    {
      "cell_type": "code",
      "metadata": {
        "colab": {
          "base_uri": "https://localhost:8080/",
          "height": 204
        },
        "id": "Vjd9rhyOHxcJ",
        "outputId": "ea763e95-e2df-447b-a1d2-8a25d63b3f7e"
      },
      "source": [
        "drawdown(rets[\"LargeCap\"]).head()"
      ],
      "execution_count": null,
      "outputs": [
        {
          "output_type": "execute_result",
          "data": {
            "text/html": [
              "<div>\n",
              "<style scoped>\n",
              "    .dataframe tbody tr th:only-of-type {\n",
              "        vertical-align: middle;\n",
              "    }\n",
              "\n",
              "    .dataframe tbody tr th {\n",
              "        vertical-align: top;\n",
              "    }\n",
              "\n",
              "    .dataframe thead th {\n",
              "        text-align: right;\n",
              "    }\n",
              "</style>\n",
              "<table border=\"1\" class=\"dataframe\">\n",
              "  <thead>\n",
              "    <tr style=\"text-align: right;\">\n",
              "      <th></th>\n",
              "      <th>Wealth</th>\n",
              "      <th>Peaks</th>\n",
              "      <th>Drawdown</th>\n",
              "    </tr>\n",
              "  </thead>\n",
              "  <tbody>\n",
              "    <tr>\n",
              "      <th>1926-07</th>\n",
              "      <td>1032.900000</td>\n",
              "      <td>1032.900000</td>\n",
              "      <td>0.0000</td>\n",
              "    </tr>\n",
              "    <tr>\n",
              "      <th>1926-08</th>\n",
              "      <td>1071.117300</td>\n",
              "      <td>1071.117300</td>\n",
              "      <td>0.0000</td>\n",
              "    </tr>\n",
              "    <tr>\n",
              "      <th>1926-09</th>\n",
              "      <td>1078.293786</td>\n",
              "      <td>1078.293786</td>\n",
              "      <td>0.0000</td>\n",
              "    </tr>\n",
              "    <tr>\n",
              "      <th>1926-10</th>\n",
              "      <td>1052.091247</td>\n",
              "      <td>1078.293786</td>\n",
              "      <td>-0.0243</td>\n",
              "    </tr>\n",
              "    <tr>\n",
              "      <th>1926-11</th>\n",
              "      <td>1080.497711</td>\n",
              "      <td>1080.497711</td>\n",
              "      <td>0.0000</td>\n",
              "    </tr>\n",
              "  </tbody>\n",
              "</table>\n",
              "</div>"
            ],
            "text/plain": [
              "              Wealth        Peaks  Drawdown\n",
              "1926-07  1032.900000  1032.900000    0.0000\n",
              "1926-08  1071.117300  1071.117300    0.0000\n",
              "1926-09  1078.293786  1078.293786    0.0000\n",
              "1926-10  1052.091247  1078.293786   -0.0243\n",
              "1926-11  1080.497711  1080.497711    0.0000"
            ]
          },
          "metadata": {
            "tags": []
          },
          "execution_count": 107
        }
      ]
    },
    {
      "cell_type": "code",
      "metadata": {
        "colab": {
          "base_uri": "https://localhost:8080/",
          "height": 204
        },
        "id": "KoEGz8g_H3pB",
        "outputId": "9eb9e026-0622-472c-ffe3-4c7f3dd9639a"
      },
      "source": [
        "drawdown(rets[\"LargeCap\"])[[\"Wealth\", \"Peaks\"]].head()"
      ],
      "execution_count": null,
      "outputs": [
        {
          "output_type": "execute_result",
          "data": {
            "text/html": [
              "<div>\n",
              "<style scoped>\n",
              "    .dataframe tbody tr th:only-of-type {\n",
              "        vertical-align: middle;\n",
              "    }\n",
              "\n",
              "    .dataframe tbody tr th {\n",
              "        vertical-align: top;\n",
              "    }\n",
              "\n",
              "    .dataframe thead th {\n",
              "        text-align: right;\n",
              "    }\n",
              "</style>\n",
              "<table border=\"1\" class=\"dataframe\">\n",
              "  <thead>\n",
              "    <tr style=\"text-align: right;\">\n",
              "      <th></th>\n",
              "      <th>Wealth</th>\n",
              "      <th>Peaks</th>\n",
              "    </tr>\n",
              "  </thead>\n",
              "  <tbody>\n",
              "    <tr>\n",
              "      <th>1926-07</th>\n",
              "      <td>1032.900000</td>\n",
              "      <td>1032.900000</td>\n",
              "    </tr>\n",
              "    <tr>\n",
              "      <th>1926-08</th>\n",
              "      <td>1071.117300</td>\n",
              "      <td>1071.117300</td>\n",
              "    </tr>\n",
              "    <tr>\n",
              "      <th>1926-09</th>\n",
              "      <td>1078.293786</td>\n",
              "      <td>1078.293786</td>\n",
              "    </tr>\n",
              "    <tr>\n",
              "      <th>1926-10</th>\n",
              "      <td>1052.091247</td>\n",
              "      <td>1078.293786</td>\n",
              "    </tr>\n",
              "    <tr>\n",
              "      <th>1926-11</th>\n",
              "      <td>1080.497711</td>\n",
              "      <td>1080.497711</td>\n",
              "    </tr>\n",
              "  </tbody>\n",
              "</table>\n",
              "</div>"
            ],
            "text/plain": [
              "              Wealth        Peaks\n",
              "1926-07  1032.900000  1032.900000\n",
              "1926-08  1071.117300  1071.117300\n",
              "1926-09  1078.293786  1078.293786\n",
              "1926-10  1052.091247  1078.293786\n",
              "1926-11  1080.497711  1080.497711"
            ]
          },
          "metadata": {
            "tags": []
          },
          "execution_count": 113
        }
      ]
    },
    {
      "cell_type": "code",
      "metadata": {
        "colab": {
          "base_uri": "https://localhost:8080/",
          "height": 293
        },
        "id": "KvCZaUxwIEpg",
        "outputId": "95cd5c5b-1083-4952-a388-50ac73303570"
      },
      "source": [
        "drawdown(rets[\"LargeCap\"])[[\"Wealth\", \"Peaks\"]].plot()"
      ],
      "execution_count": null,
      "outputs": [
        {
          "output_type": "execute_result",
          "data": {
            "text/plain": [
              "<matplotlib.axes._subplots.AxesSubplot at 0x7fd65104a390>"
            ]
          },
          "metadata": {
            "tags": []
          },
          "execution_count": 114
        },
        {
          "output_type": "display_data",
          "data": {
            "image/png": "[encoded data removed]",
            "text/plain": [
              "<Figure size 432x288 with 1 Axes>"
            ]
          },
          "metadata": {
            "tags": [],
            "needs_background": "light"
          }
        }
      ]
    },
    {
      "cell_type": "code",
      "metadata": {
        "colab": {
          "base_uri": "https://localhost:8080/",
          "height": 282
        },
        "id": "ZiaTXhWLIcMh",
        "outputId": "53290fce-e704-4375-c2c3-7613a7f169e9"
      },
      "source": [
        "drawdown(rets[:\"1950\"][\"LargeCap\"])[[\"Wealth\", \"Peaks\"]].plot()"
      ],
      "execution_count": null,
      "outputs": [
        {
          "output_type": "execute_result",
          "data": {
            "text/plain": [
              "<matplotlib.axes._subplots.AxesSubplot at 0x7fd650fb2ba8>"
            ]
          },
          "metadata": {
            "tags": []
          },
          "execution_count": 115
        },
        {
          "output_type": "display_data",
          "data": {
            "image/png": "[encoded data removed]",
            "text/plain": [
              "<Figure size 432x288 with 1 Axes>"
            ]
          },
          "metadata": {
            "tags": [],
            "needs_background": "light"
          }
        }
      ]
    },
    {
      "cell_type": "code",
      "metadata": {
        "colab": {
          "base_uri": "https://localhost:8080/"
        },
        "id": "r1L1q4qrIqjf",
        "outputId": "ccd21c90-251d-47ea-9d36-e32c336bd8f0"
      },
      "source": [
        "drawdown(rets[\"LargeCap\"])[\"Drawdown\"].min()\n",
        "drawdown(rets[\"LargeCap\"])[\"Drawdown\"].idxmin()"
      ],
      "execution_count": null,
      "outputs": [
        {
          "output_type": "execute_result",
          "data": {
            "text/plain": [
              "Period('1932-05', 'M')"
            ]
          },
          "metadata": {
            "tags": []
          },
          "execution_count": 122
        }
      ]
    },
    {
      "cell_type": "code",
      "metadata": {
        "colab": {
          "base_uri": "https://localhost:8080/"
        },
        "id": "UDp8VAJaI-G4",
        "outputId": "0490a7a8-059a-448b-a4f7-c96c7913fb1d"
      },
      "source": [
        "drawdown(rets[\"SmallCap\"])[\"Drawdown\"].idxmin()"
      ],
      "execution_count": null,
      "outputs": [
        {
          "output_type": "execute_result",
          "data": {
            "text/plain": [
              "Period('1932-05', 'M')"
            ]
          },
          "metadata": {
            "tags": []
          },
          "execution_count": 121
        }
      ]
    },
    {
      "cell_type": "code",
      "metadata": {
        "colab": {
          "base_uri": "https://localhost:8080/"
        },
        "id": "7pXVmQC0JmfB",
        "outputId": "f6388dbc-047b-4740-ec04-523ea1f059ec"
      },
      "source": [
        "drawdown(rets[\"1940\":][\"SmallCap\"])[\"Drawdown\"].idxmin()"
      ],
      "execution_count": null,
      "outputs": [
        {
          "output_type": "execute_result",
          "data": {
            "text/plain": [
              "Period('1974-12', 'M')"
            ]
          },
          "metadata": {
            "tags": []
          },
          "execution_count": 125
        }
      ]
    },
    {
      "cell_type": "code",
      "metadata": {
        "colab": {
          "base_uri": "https://localhost:8080/"
        },
        "id": "t4SML1TuJ3Oh",
        "outputId": "b8fcd9d0-f92a-4d20-bc52-66a0903eec6d"
      },
      "source": [
        "np.log10(123456789)"
      ],
      "execution_count": null,
      "outputs": [
        {
          "output_type": "execute_result",
          "data": {
            "text/plain": [
              "8.09151497716927"
            ]
          },
          "metadata": {
            "tags": []
          },
          "execution_count": 148
        }
      ]
    },
    {
      "cell_type": "code",
      "metadata": {
        "id": "fXpVrHz_MwwZ"
      },
      "source": [
        ""
      ],
      "execution_count": null,
      "outputs": []
    }
  ]
}